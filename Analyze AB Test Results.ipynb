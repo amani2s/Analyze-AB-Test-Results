{
 "cells": [
  {
   "cell_type": "markdown",
   "metadata": {},
   "source": [
    "## Analyze A/B Test Results\n",
    "\n",
    "You may either submit your notebook through the workspace here, or you may work from your local machine and submit through the next page.  Either way assure that your code passes the project [RUBRIC](https://review.udacity.com/#!/projects/37e27304-ad47-4eb0-a1ab-8c12f60e43d0/rubric).  **Please save regularly.**\n",
    "\n",
    "This project will assure you have mastered the subjects covered in the statistics lessons.  The hope is to have this project be as comprehensive of these topics as possible.  Good luck!\n",
    "\n",
    "## Table of Contents\n",
    "- [Introduction](#intro)\n",
    "- [Part I - Probability](#probability)\n",
    "- [Part II - A/B Test](#ab_test)\n",
    "- [Part III - Regression](#regression)\n",
    "\n",
    "\n",
    "<a id='intro'></a>\n",
    "### Introduction\n",
    "\n",
    "A/B tests are very commonly performed by data analysts and data scientists.  It is important that you get some practice working with the difficulties of these \n",
    "\n",
    "For this project, you will be working to understand the results of an A/B test run by an e-commerce website.  Your goal is to work through this notebook to help the company understand if they should implement the new page, keep the old page, or perhaps run the experiment longer to make their decision.\n",
    "\n",
    "**As you work through this notebook, follow along in the classroom and answer the corresponding quiz questions associated with each question.** The labels for each classroom concept are provided for each question.  This will assure you are on the right track as you work through the project, and you can feel more confident in your final submission meeting the criteria.  As a final check, assure you meet all the criteria on the [RUBRIC](https://review.udacity.com/#!/projects/37e27304-ad47-4eb0-a1ab-8c12f60e43d0/rubric).\n",
    "\n",
    "<a id='probability'></a>\n",
    "#### Part I - Probability\n",
    "\n",
    "To get started, let's import our libraries."
   ]
  },
  {
   "cell_type": "code",
   "execution_count": 1,
   "metadata": {},
   "outputs": [],
   "source": [
    "import pandas as pd\n",
    "import numpy as np\n",
    "import random\n",
    "import statsmodels.api as sm\n",
    "import matplotlib.pyplot as plt\n",
    "%matplotlib inline\n",
    "random.seed(42)"
   ]
  },
  {
   "cell_type": "markdown",
   "metadata": {},
   "source": [
    "`1.` Now, read in the `ab_data.csv` data. Store it in `df`.  **Use your dataframe to answer the questions in Quiz 1 of the classroom.**\n",
    "\n",
    "a. Read in the dataset and take a look at the top few rows here:"
   ]
  },
  {
   "cell_type": "code",
   "execution_count": 2,
   "metadata": {
    "scrolled": false
   },
   "outputs": [
    {
     "data": {
      "text/html": [
       "<div>\n",
       "<style scoped>\n",
       "    .dataframe tbody tr th:only-of-type {\n",
       "        vertical-align: middle;\n",
       "    }\n",
       "\n",
       "    .dataframe tbody tr th {\n",
       "        vertical-align: top;\n",
       "    }\n",
       "\n",
       "    .dataframe thead th {\n",
       "        text-align: right;\n",
       "    }\n",
       "</style>\n",
       "<table border=\"1\" class=\"dataframe\">\n",
       "  <thead>\n",
       "    <tr style=\"text-align: right;\">\n",
       "      <th></th>\n",
       "      <th>user_id</th>\n",
       "      <th>timestamp</th>\n",
       "      <th>group</th>\n",
       "      <th>landing_page</th>\n",
       "      <th>converted</th>\n",
       "    </tr>\n",
       "  </thead>\n",
       "  <tbody>\n",
       "    <tr>\n",
       "      <th>0</th>\n",
       "      <td>851104</td>\n",
       "      <td>2017-01-21 22:11:48.556739</td>\n",
       "      <td>control</td>\n",
       "      <td>old_page</td>\n",
       "      <td>0</td>\n",
       "    </tr>\n",
       "    <tr>\n",
       "      <th>1</th>\n",
       "      <td>804228</td>\n",
       "      <td>2017-01-12 08:01:45.159739</td>\n",
       "      <td>control</td>\n",
       "      <td>old_page</td>\n",
       "      <td>0</td>\n",
       "    </tr>\n",
       "    <tr>\n",
       "      <th>2</th>\n",
       "      <td>661590</td>\n",
       "      <td>2017-01-11 16:55:06.154213</td>\n",
       "      <td>treatment</td>\n",
       "      <td>new_page</td>\n",
       "      <td>0</td>\n",
       "    </tr>\n",
       "    <tr>\n",
       "      <th>3</th>\n",
       "      <td>853541</td>\n",
       "      <td>2017-01-08 18:28:03.143765</td>\n",
       "      <td>treatment</td>\n",
       "      <td>new_page</td>\n",
       "      <td>0</td>\n",
       "    </tr>\n",
       "    <tr>\n",
       "      <th>4</th>\n",
       "      <td>864975</td>\n",
       "      <td>2017-01-21 01:52:26.210827</td>\n",
       "      <td>control</td>\n",
       "      <td>old_page</td>\n",
       "      <td>1</td>\n",
       "    </tr>\n",
       "  </tbody>\n",
       "</table>\n",
       "</div>"
      ],
      "text/plain": [
       "   user_id                   timestamp      group landing_page  converted\n",
       "0   851104  2017-01-21 22:11:48.556739    control     old_page          0\n",
       "1   804228  2017-01-12 08:01:45.159739    control     old_page          0\n",
       "2   661590  2017-01-11 16:55:06.154213  treatment     new_page          0\n",
       "3   853541  2017-01-08 18:28:03.143765  treatment     new_page          0\n",
       "4   864975  2017-01-21 01:52:26.210827    control     old_page          1"
      ]
     },
     "execution_count": 2,
     "metadata": {},
     "output_type": "execute_result"
    }
   ],
   "source": [
    "#Read CSV file\n",
    "df=pd.read_csv('ab_data.csv')\n",
    "df.head()"
   ]
  },
  {
   "cell_type": "markdown",
   "metadata": {},
   "source": [
    "b. Use the cell below to find the number of rows in the dataset."
   ]
  },
  {
   "cell_type": "code",
   "execution_count": 3,
   "metadata": {},
   "outputs": [
    {
     "data": {
      "text/plain": [
       "294478"
      ]
     },
     "execution_count": 3,
     "metadata": {},
     "output_type": "execute_result"
    }
   ],
   "source": [
    "# Total rows\n",
    "df.shape[0]"
   ]
  },
  {
   "cell_type": "markdown",
   "metadata": {},
   "source": [
    "c. The number of unique users in the dataset."
   ]
  },
  {
   "cell_type": "code",
   "execution_count": 4,
   "metadata": {},
   "outputs": [
    {
     "data": {
      "text/plain": [
       "290584"
      ]
     },
     "execution_count": 4,
     "metadata": {},
     "output_type": "execute_result"
    }
   ],
   "source": [
    "#Unique rows\n",
    "len(df['user_id'].unique())"
   ]
  },
  {
   "cell_type": "markdown",
   "metadata": {
    "collapsed": true
   },
   "source": [
    "d. The proportion of users converted."
   ]
  },
  {
   "cell_type": "code",
   "execution_count": 5,
   "metadata": {},
   "outputs": [
    {
     "data": {
      "text/plain": [
       "0.11965919355605512"
      ]
     },
     "execution_count": 5,
     "metadata": {},
     "output_type": "execute_result"
    }
   ],
   "source": [
    "# The proportion of users converted\n",
    "df['converted'].mean()"
   ]
  },
  {
   "cell_type": "markdown",
   "metadata": {
    "collapsed": true
   },
   "source": [
    "e. The number of times the `new_page` and `treatment` don't match."
   ]
  },
  {
   "cell_type": "code",
   "execution_count": 6,
   "metadata": {
    "scrolled": true
   },
   "outputs": [
    {
     "data": {
      "text/plain": [
       "3893"
      ]
     },
     "execution_count": 6,
     "metadata": {},
     "output_type": "execute_result"
    }
   ],
   "source": [
    "# The number of times the new_page and treatment don't match.\n",
    "\n",
    "x=df.query('(group == \"treatment\" and landing_page == \"old_page\") or (group == \"control\" and landing_page == \"new_page\")')['user_id'].count()\n",
    "x"
   ]
  },
  {
   "cell_type": "markdown",
   "metadata": {},
   "source": [
    "f. Do any of the rows have missing values?"
   ]
  },
  {
   "cell_type": "code",
   "execution_count": 7,
   "metadata": {},
   "outputs": [
    {
     "data": {
      "text/plain": [
       "user_id         0\n",
       "timestamp       0\n",
       "group           0\n",
       "landing_page    0\n",
       "converted       0\n",
       "dtype: int64"
      ]
     },
     "execution_count": 7,
     "metadata": {},
     "output_type": "execute_result"
    }
   ],
   "source": [
    "#fNumber of missing data.\n",
    "df.isnull().sum()"
   ]
  },
  {
   "cell_type": "markdown",
   "metadata": {},
   "source": [
    "__No missing data__\n"
   ]
  },
  {
   "cell_type": "markdown",
   "metadata": {},
   "source": [
    "`2.` For the rows where **treatment** does not match with **new_page** or **control** does not match with **old_page**, we cannot be sure if this row truly received the new or old page.  Use **Quiz 2** in the classroom to figure out how we should handle these rows.  \n",
    "\n",
    "a. Now use the answer to the quiz to create a new dataset that meets the specifications from the quiz.  Store your new dataframe in **df2**."
   ]
  },
  {
   "cell_type": "code",
   "execution_count": 8,
   "metadata": {},
   "outputs": [
    {
     "data": {
      "text/plain": [
       "290585"
      ]
     },
     "execution_count": 8,
     "metadata": {},
     "output_type": "execute_result"
    }
   ],
   "source": [
    "# adding where treatment does not match with new_page or control does not match with old_page to NEW dataset\n",
    "df2=df.query('(group==\"treatment\" & landing_page==\"new_page\") or (group==\"control\" & landing_page==\"old_page\")')\n",
    "#number of rows\n",
    "len(df2)"
   ]
  },
  {
   "cell_type": "markdown",
   "metadata": {},
   "source": [
    "`3.` Use **df2** and the cells below to answer questions for **Quiz3** in the classroom."
   ]
  },
  {
   "cell_type": "markdown",
   "metadata": {},
   "source": [
    "a. How many unique **user_id**s are in **df2**?"
   ]
  },
  {
   "cell_type": "code",
   "execution_count": 9,
   "metadata": {},
   "outputs": [
    {
     "data": {
      "text/plain": [
       "290584"
      ]
     },
     "execution_count": 9,
     "metadata": {},
     "output_type": "execute_result"
    }
   ],
   "source": [
    "df2['user_id'].nunique()"
   ]
  },
  {
   "cell_type": "markdown",
   "metadata": {
    "collapsed": true
   },
   "source": [
    "b. There is one **user_id** repeated in **df2**.  What is it?"
   ]
  },
  {
   "cell_type": "code",
   "execution_count": 10,
   "metadata": {},
   "outputs": [
    {
     "data": {
      "text/plain": [
       "2"
      ]
     },
     "execution_count": 10,
     "metadata": {},
     "output_type": "execute_result"
    }
   ],
   "source": [
    "## check for duplicated user_id\n",
    "len(df2[df2.duplicated(['user_id'], keep=False)]['user_id'])"
   ]
  },
  {
   "cell_type": "markdown",
   "metadata": {},
   "source": [
    "c. What is the row information for the repeat **user_id**? "
   ]
  },
  {
   "cell_type": "code",
   "execution_count": 11,
   "metadata": {},
   "outputs": [
    {
     "data": {
      "text/html": [
       "<div>\n",
       "<style scoped>\n",
       "    .dataframe tbody tr th:only-of-type {\n",
       "        vertical-align: middle;\n",
       "    }\n",
       "\n",
       "    .dataframe tbody tr th {\n",
       "        vertical-align: top;\n",
       "    }\n",
       "\n",
       "    .dataframe thead th {\n",
       "        text-align: right;\n",
       "    }\n",
       "</style>\n",
       "<table border=\"1\" class=\"dataframe\">\n",
       "  <thead>\n",
       "    <tr style=\"text-align: right;\">\n",
       "      <th></th>\n",
       "      <th>user_id</th>\n",
       "      <th>timestamp</th>\n",
       "      <th>group</th>\n",
       "      <th>landing_page</th>\n",
       "      <th>converted</th>\n",
       "    </tr>\n",
       "  </thead>\n",
       "  <tbody>\n",
       "    <tr>\n",
       "      <th>1899</th>\n",
       "      <td>773192</td>\n",
       "      <td>2017-01-09 05:37:58.781806</td>\n",
       "      <td>treatment</td>\n",
       "      <td>new_page</td>\n",
       "      <td>0</td>\n",
       "    </tr>\n",
       "    <tr>\n",
       "      <th>2893</th>\n",
       "      <td>773192</td>\n",
       "      <td>2017-01-14 02:55:59.590927</td>\n",
       "      <td>treatment</td>\n",
       "      <td>new_page</td>\n",
       "      <td>0</td>\n",
       "    </tr>\n",
       "  </tbody>\n",
       "</table>\n",
       "</div>"
      ],
      "text/plain": [
       "      user_id                   timestamp      group landing_page  converted\n",
       "1899   773192  2017-01-09 05:37:58.781806  treatment     new_page          0\n",
       "2893   773192  2017-01-14 02:55:59.590927  treatment     new_page          0"
      ]
     },
     "execution_count": 11,
     "metadata": {},
     "output_type": "execute_result"
    }
   ],
   "source": [
    "# quick look at duplicated rows\n",
    "df2[df2.duplicated(['user_id'],keep=False)]"
   ]
  },
  {
   "cell_type": "markdown",
   "metadata": {},
   "source": [
    "d. Remove **one** of the rows with a duplicate **user_id**, but keep your dataframe as **df2**."
   ]
  },
  {
   "cell_type": "code",
   "execution_count": 12,
   "metadata": {
    "scrolled": true
   },
   "outputs": [],
   "source": [
    "df2=df2.drop_duplicates(['user_id'],keep='first')\n"
   ]
  },
  {
   "cell_type": "markdown",
   "metadata": {},
   "source": [
    "`4.` Use **df2** in the cells below to answer the quiz questions related to **Quiz 4** in the classroom.\n",
    "\n",
    "a. What is the probability of an individual converting regardless of the page they receive?"
   ]
  },
  {
   "cell_type": "code",
   "execution_count": 13,
   "metadata": {},
   "outputs": [
    {
     "data": {
      "text/plain": [
       "0.11959708724499628"
      ]
     },
     "execution_count": 13,
     "metadata": {},
     "output_type": "execute_result"
    }
   ],
   "source": [
    "# propotion of user converted \n",
    "df2['converted'].mean()\n"
   ]
  },
  {
   "cell_type": "markdown",
   "metadata": {},
   "source": [
    "b. Given that an individual was in the `control` group, what is the probability they converted?"
   ]
  },
  {
   "cell_type": "code",
   "execution_count": 14,
   "metadata": {},
   "outputs": [
    {
     "data": {
      "text/plain": [
       "0.1203863045004612"
      ]
     },
     "execution_count": 14,
     "metadata": {},
     "output_type": "execute_result"
    }
   ],
   "source": [
    "converted_control=df2.query('group==\"control\"')['converted'].mean()\n",
    "converted_control"
   ]
  },
  {
   "cell_type": "markdown",
   "metadata": {},
   "source": [
    "c. Given that an individual was in the `treatment` group, what is the probability they converted?"
   ]
  },
  {
   "cell_type": "code",
   "execution_count": 15,
   "metadata": {},
   "outputs": [
    {
     "data": {
      "text/plain": [
       "0.11880806551510564"
      ]
     },
     "execution_count": 15,
     "metadata": {},
     "output_type": "execute_result"
    }
   ],
   "source": [
    "converted_treatment=df2.query('group==\"treatment\"')['converted'].mean()\n",
    "converted_treatment"
   ]
  },
  {
   "cell_type": "markdown",
   "metadata": {},
   "source": [
    "d. What is the probability that an individual received the new page?"
   ]
  },
  {
   "cell_type": "code",
   "execution_count": 16,
   "metadata": {},
   "outputs": [
    {
     "data": {
      "text/plain": [
       "0.5000619442226688"
      ]
     },
     "execution_count": 16,
     "metadata": {},
     "output_type": "execute_result"
    }
   ],
   "source": [
    "len(df2.query('landing_page==\"new_page\"'))/df2.shape[0]"
   ]
  },
  {
   "cell_type": "markdown",
   "metadata": {},
   "source": [
    "e. Consider your results from parts (a) through (d) above, and explain below whether you think there is sufficient evidence to conclude that the new treatment page leads to more conversions."
   ]
  },
  {
   "cell_type": "markdown",
   "metadata": {},
   "source": [
    "#### Control group =12.03%\n",
    "#### treatment group (11.88%)\n",
    "####  but this diffrence  can not indicate  that old_page is better than new_page. it might some people who did not received new page willing to convert new page\n"
   ]
  },
  {
   "cell_type": "markdown",
   "metadata": {},
   "source": [
    "<a id='ab_test'></a>\n",
    "### Part II - A/B Test\n",
    "\n",
    "Notice that because of the time stamp associated with each event, you could technically run a hypothesis test continuously as each observation was observed.  \n",
    "\n",
    "However, then the hard question is do you stop as soon as one page is considered significantly better than another or does it need to happen consistently for a certain amount of time?  How long do you run to render a decision that neither page is better than another?  \n",
    "\n",
    "These questions are the difficult parts associated with A/B tests in general.  \n",
    "\n",
    "\n",
    "`1.` For now, consider you need to make the decision just based on all the data provided.  If you want to assume that the old page is better unless the new page proves to be definitely better at a Type I error rate of 5%, what should your null and alternative hypotheses be?  You can state your hypothesis in terms of words or in terms of **$p_{old}$** and **$p_{new}$**, which are the converted rates for the old and new pages."
   ]
  },
  {
   "cell_type": "markdown",
   "metadata": {},
   "source": [
    "#### Based in our PART one A/B test we assume \n",
    "                                            \n",
    "                                            H0: p_old>= p_new\n",
    "                                            H1: p_old< p_new\n"
   ]
  },
  {
   "cell_type": "markdown",
   "metadata": {},
   "source": [
    "`2.` Assume under the null hypothesis, $p_{new}$ and $p_{old}$ both have \"true\" success rates equal to the **converted** success rate regardless of page - that is $p_{new}$ and $p_{old}$ are equal. Furthermore, assume they are equal to the **converted** rate in **ab_data.csv** regardless of the page. <br><br>\n",
    "\n",
    "Use a sample size for each page equal to the ones in **ab_data.csv**.  <br><br>\n",
    "\n",
    "Perform the sampling distribution for the difference in **converted** between the two pages over 10,000 iterations of calculating an estimate from the null.  <br><br>\n",
    "\n",
    "Use the cells below to provide the necessary parts of this simulation.  If this doesn't make complete sense right now, don't worry - you are going to work through the problems below to complete this problem.  You can use **Quiz 5** in the classroom to make sure you are on the right track.<br><br>"
   ]
  },
  {
   "cell_type": "markdown",
   "metadata": {},
   "source": [
    "a. What is the **conversion rate** for $p_{new}$ under the null? "
   ]
  },
  {
   "cell_type": "code",
   "execution_count": 17,
   "metadata": {},
   "outputs": [
    {
     "data": {
      "text/plain": [
       "0.11959708724499628"
      ]
     },
     "execution_count": 17,
     "metadata": {},
     "output_type": "execute_result"
    }
   ],
   "source": [
    "pnew=df2['converted'].mean()\n",
    "pnew\n"
   ]
  },
  {
   "cell_type": "markdown",
   "metadata": {},
   "source": [
    "b. What is the **conversion rate** for $p_{old}$ under the null? <br><br>"
   ]
  },
  {
   "cell_type": "code",
   "execution_count": 18,
   "metadata": {},
   "outputs": [
    {
     "data": {
      "text/plain": [
       "0.11959708724499628"
      ]
     },
     "execution_count": 18,
     "metadata": {},
     "output_type": "execute_result"
    }
   ],
   "source": [
    "pold=df2['converted'].mean()\n",
    "pold"
   ]
  },
  {
   "cell_type": "markdown",
   "metadata": {},
   "source": [
    "c. What is $n_{new}$, the number of individuals in the treatment group?"
   ]
  },
  {
   "cell_type": "code",
   "execution_count": 19,
   "metadata": {},
   "outputs": [
    {
     "data": {
      "text/plain": [
       "145310"
      ]
     },
     "execution_count": 19,
     "metadata": {},
     "output_type": "execute_result"
    }
   ],
   "source": [
    "nnew=df2[df2['group']=='treatment'].shape[0]\n",
    "nnew"
   ]
  },
  {
   "cell_type": "markdown",
   "metadata": {},
   "source": [
    "d. What is $n_{old}$, the number of individuals in the control group?"
   ]
  },
  {
   "cell_type": "code",
   "execution_count": 20,
   "metadata": {},
   "outputs": [
    {
     "data": {
      "text/plain": [
       "145274"
      ]
     },
     "execution_count": 20,
     "metadata": {},
     "output_type": "execute_result"
    }
   ],
   "source": [
    "nold=df2.query('group==\"control\"').shape[0]\n",
    "nold"
   ]
  },
  {
   "cell_type": "markdown",
   "metadata": {},
   "source": [
    "e. Simulate $n_{new}$ transactions with a conversion rate of $p_{new}$ under the null.  Store these $n_{new}$ 1's and 0's in **new_page_converted**."
   ]
  },
  {
   "cell_type": "code",
   "execution_count": 21,
   "metadata": {},
   "outputs": [
    {
     "data": {
      "text/plain": [
       "array([0, 0, 0, ..., 1, 0, 0])"
      ]
     },
     "execution_count": 21,
     "metadata": {},
     "output_type": "execute_result"
    }
   ],
   "source": [
    "#the new_page_converted\n",
    "new_page_converted=np.random.binomial(1,p=pnew,size=nnew)\n",
    "new_page_converted"
   ]
  },
  {
   "cell_type": "markdown",
   "metadata": {},
   "source": [
    "f. Simulate $n_{old}$ transactions with a conversion rate of $p_{old}$ under the null.  Store these $n_{old}$ 1's and 0's in **old_page_converted**."
   ]
  },
  {
   "cell_type": "code",
   "execution_count": 22,
   "metadata": {},
   "outputs": [
    {
     "data": {
      "text/plain": [
       "array([0, 0, 0, ..., 0, 0, 0])"
      ]
     },
     "execution_count": 22,
     "metadata": {},
     "output_type": "execute_result"
    }
   ],
   "source": [
    "#the old_page_converted\n",
    "old_page_converted=np.random.binomial(1,p=pold,size=nold)\n",
    "old_page_converted"
   ]
  },
  {
   "cell_type": "markdown",
   "metadata": {},
   "source": [
    "g. Find $p_{new}$ - $p_{old}$ for your simulated values from part (e) and (f)."
   ]
  },
  {
   "cell_type": "code",
   "execution_count": 23,
   "metadata": {},
   "outputs": [
    {
     "data": {
      "text/plain": [
       "0.002310695743824809"
      ]
     },
     "execution_count": 23,
     "metadata": {},
     "output_type": "execute_result"
    }
   ],
   "source": [
    "diff=new_page_converted.mean()-old_page_converted.mean()\n",
    "diff"
   ]
  },
  {
   "cell_type": "markdown",
   "metadata": {},
   "source": [
    "h. Create 10,000 $p_{new}$ - $p_{old}$ values using the same simulation process you used in parts (a) through (g) above. Store all 10,000 values in a NumPy array called **p_diffs**."
   ]
  },
  {
   "cell_type": "code",
   "execution_count": 24,
   "metadata": {},
   "outputs": [
    {
     "data": {
      "text/plain": [
       "array([ 1.07842878e-03,  7.34389703e-04, -1.81009121e-04,  1.01390139e-04,\n",
       "        2.93678107e-03,  2.25532554e-03, -7.77440206e-05,  5.20800304e-04,\n",
       "        1.55354852e-03, -1.27522320e-03,  1.94566667e-03, -3.10592535e-03,\n",
       "        2.54085255e-05,  1.04367339e-03,  5.27794697e-04,  1.63135687e-04,\n",
       "        2.45647832e-04,  2.18067611e-04,  3.28301524e-04,  2.54835618e-05,\n",
       "        8.23974689e-04, -8.35060080e-04,  1.18873943e-03, -3.04786719e-04,\n",
       "       -5.93960380e-04, -4.90841941e-04, -6.83608465e-04, -1.18590766e-03,\n",
       "        8.78884443e-04,  3.01260920e-03,  2.73383243e-04, -8.07585591e-04,\n",
       "       -1.72263140e-03, -3.20254224e-03,  7.76032042e-04, -1.35099335e-03,\n",
       "        6.03803597e-04,  1.13400533e-03,  3.83299957e-04,  8.37453569e-04,\n",
       "        8.51500339e-04,  2.69587748e-03, -1.66085686e-03,  3.55689039e-04,\n",
       "       -3.39241958e-04, -3.18625433e-04, -9.45118340e-04, -2.43863426e-03,\n",
       "        7.35541113e-05,  1.18866610e-03,  5.07070734e-04,  1.04408609e-03,\n",
       "       -2.91120248e-04, -4.83641198e-04,  1.18146195e-03, -1.99794759e-03,\n",
       "       -1.20656171e-03, -9.38086429e-04,  1.35395814e-03, -3.66765903e-04,\n",
       "       -2.93428014e-03,  1.10581118e-03, -1.74346281e-03,  4.74083915e-06,\n",
       "       -9.65898581e-04, -8.46019842e-05, -4.01410438e-04, -2.03946032e-03,\n",
       "        1.91811032e-03,  6.65668521e-04, -5.66760456e-04, -5.73374551e-04,\n",
       "        1.39502065e-03, -4.90847057e-04, -2.54862431e-03, -1.99818293e-03,\n",
       "        5.82929561e-04, -2.77387267e-04, -1.11022619e-03,  5.96527817e-04,\n",
       "       -5.52759731e-04,  3.83393753e-04, -2.49793402e-04, -6.14433654e-04,\n",
       "        1.69707148e-04, -6.96899754e-04, -5.45772160e-04,  8.74610402e-05,\n",
       "        2.04309049e-04,  1.70186357e-04, -2.15481414e-04,  3.48875415e-04,\n",
       "        7.13411639e-04, -2.41097047e-03,  5.21264165e-04,  5.96737578e-04,\n",
       "       -1.83255494e-03, -1.12284528e-04, -4.63077539e-04, -1.68157230e-03,\n",
       "        8.99656157e-04,  8.51181434e-04,  3.83354529e-04, -4.90824887e-04,\n",
       "        8.92774318e-04,  3.00724713e-04, -2.77363392e-04, -3.04744085e-04,\n",
       "        1.30566077e-03, -7.72790983e-04,  5.48324249e-04,  1.19521028e-03,\n",
       "        8.23901358e-04,  7.82412502e-04, -6.83596527e-04, -1.55055133e-03,\n",
       "       -5.02831748e-05,  6.31196228e-04,  6.66944423e-05, -1.19031643e-04,\n",
       "       -8.21262295e-04, -6.76513454e-04,  6.44608599e-04, -1.25959527e-04,\n",
       "        8.92644710e-04,  1.42233483e-03, -1.28910966e-03, -1.44029865e-03,\n",
       "       -1.46640856e-04, -1.53702299e-03,  3.62662968e-04, -1.05499896e-04,\n",
       "        4.93457129e-04,  1.93202066e-03, -1.13763076e-03, -2.26634101e-03,\n",
       "        8.44483776e-04, -2.22542175e-03, -9.79638383e-04,  1.42469706e-04,\n",
       "        1.26420943e-03, -2.04628247e-03,  7.69071756e-04, -5.94025184e-04,\n",
       "        5.99353903e-05,  4.52130283e-04,  1.40895998e-03,  8.57943897e-04,\n",
       "        1.45028512e-03,  1.04438112e-03, -8.48704382e-04, -1.59887939e-03,\n",
       "       -1.94302931e-03,  6.65576431e-04, -1.15841612e-03,  2.73190536e-04,\n",
       "       -1.12223135e-04, -1.17863529e-03, -1.79832140e-03,  1.36046650e-03,\n",
       "       -4.70075343e-04, -2.71360085e-03, -4.77020281e-04,  2.66220018e-04,\n",
       "        4.86443976e-04,  9.19933313e-04, -1.06900167e-03, -1.35097288e-03,\n",
       "       -1.48179262e-03, -5.93997898e-04,  1.52590690e-03,  1.42941961e-03,\n",
       "       -4.42650310e-04,  2.11083449e-04, -1.03447992e-03,  2.87087233e-04,\n",
       "       -1.70190232e-03,  1.50532789e-03, -7.24805702e-04,  3.69549923e-04,\n",
       "        3.96867517e-04, -8.00248418e-04,  1.20222343e-03,  8.05843175e-05,\n",
       "       -1.70905020e-03,  5.97124697e-04,  1.23685603e-03,  1.27099236e-03,\n",
       "        8.76383989e-05,  7.68764789e-04,  1.42473117e-04, -9.52058162e-04,\n",
       "       -5.69177347e-05, -9.99903602e-04, -1.86050352e-03, -2.77445249e-04,\n",
       "        1.95265083e-03,  5.68966354e-04, -4.56475381e-04, -2.29328655e-04,\n",
       "       -1.19018000e-04,  1.68402889e-03,  1.96648954e-03, -7.77406098e-05,\n",
       "        1.13342039e-03, -5.04400690e-05, -9.79594044e-04, -2.33536575e-03,\n",
       "       -3.73637510e-04,  7.34278854e-04,  8.75531303e-05,  8.44429204e-04,\n",
       "        2.00089362e-03, -1.44069089e-03, -6.55815071e-04, -8.41704872e-04,\n",
       "       -5.11204366e-04,  2.52684860e-04, -1.25835035e-04, -1.40626635e-03,\n",
       "        1.88372841e-03, -2.03247616e-03, -1.19442637e-04,  5.75793621e-04,\n",
       "       -5.52817714e-04,  1.29186640e-03, -1.09615726e-03, -1.81032996e-04,\n",
       "       -1.12419111e-03,  1.16789780e-03,  2.45560858e-04, -7.86771243e-04,\n",
       "        5.07278789e-04,  8.30738857e-04,  9.82060864e-04,  4.52169507e-04,\n",
       "       -9.44806257e-04, -1.06892322e-03, -1.13762224e-03, -9.45000669e-04,\n",
       "       -4.90410482e-04,  1.28511076e-03, -8.00386553e-04, -2.20479840e-03,\n",
       "       -8.00638948e-04,  1.08544705e-03, -3.18785738e-04, -9.72185245e-04,\n",
       "        8.99454923e-04, -1.66765002e-03, -1.29612964e-03,  6.92841159e-04,\n",
       "        2.04360210e-04, -1.28210845e-03,  5.55366392e-04, -1.11038650e-03,\n",
       "        8.85698067e-04,  2.66428073e-04,  2.15925436e-03,  2.18188692e-04,\n",
       "        3.00765642e-04, -1.86717901e-03, -1.26167440e-03,  7.38406138e-05,\n",
       "       -5.18241394e-04,  8.51131979e-04, -6.39752268e-05, -9.15707970e-05,\n",
       "       -9.86380382e-04,  1.81521529e-03, -2.49711544e-04, -6.96869058e-04,\n",
       "        1.04408609e-03, -2.46615479e-03, -1.48203308e-03,  1.17480181e-03,\n",
       "        5.48759118e-04, -2.29110367e-04, -9.38011392e-04,  1.76674738e-03,\n",
       "        6.67848270e-05, -1.18588549e-03,  1.31243517e-03, -1.72986284e-03,\n",
       "        8.73382534e-05, -6.42121314e-04,  1.62224753e-03,  3.07485470e-04,\n",
       "        1.12668010e-03,  1.40868200e-03, -5.45637435e-04, -1.08273465e-03,\n",
       "        1.66337826e-03,  3.83438092e-04,  7.34544892e-04,  6.86206599e-04,\n",
       "        1.43640718e-03, -8.62459532e-04,  1.90420680e-03,  1.70102794e-04,\n",
       "        4.17559079e-04,  6.03585309e-04, -1.74275650e-04,  2.63384714e-03,\n",
       "       -7.73014387e-04,  8.05075758e-05,  1.07857714e-03, -1.61244695e-03,\n",
       "       -3.59868716e-04,  1.09905383e-03,  1.45686852e-03,  1.74603536e-03,\n",
       "       -5.32404128e-04,  1.87702223e-03,  1.89048576e-03, -6.69563401e-04,\n",
       "       -1.91523080e-03,  2.77194096e-03, -1.35804913e-03,  5.34657777e-04,\n",
       "       -4.42754338e-04, -2.63563901e-04, -2.32171292e-03,  1.89793378e-03,\n",
       "       -1.04138223e-03,  2.24986968e-04,  2.52429054e-04,  1.73932065e-03,\n",
       "       -6.40110396e-05, -5.74566322e-05,  1.56262375e-04, -3.11801577e-04,\n",
       "       -9.79261496e-04, -8.21122454e-04,  4.86565058e-04,  1.18845122e-03,\n",
       "       -6.69730527e-04, -1.64019088e-03, -2.10838785e-03, -4.83799797e-04,\n",
       "       -6.07655843e-04, -1.03441171e-03,  1.70483471e-03, -2.95493418e-03,\n",
       "       -2.49370943e-03,  7.00217555e-04, -2.42916679e-04, -5.04551047e-04,\n",
       "        1.00958822e-03, -1.22028787e-03, -8.28016231e-04,  1.69774652e-03,\n",
       "        1.39542823e-03, -5.02848801e-05, -1.80532261e-03, -9.31213117e-04,\n",
       "        1.75280805e-03, -3.88411203e-03, -1.23426642e-03,  2.96412424e-03,\n",
       "        5.41640233e-04, -1.07578971e-03, -1.50261721e-03, -5.18280617e-04,\n",
       "        7.89275582e-04, -2.22325735e-04,  1.21716751e-04,  6.58258017e-04,\n",
       "       -1.28929896e-03,  1.71871947e-03, -3.73557357e-04,  9.20194235e-04,\n",
       "        6.51863914e-04, -2.77569941e-03,  4.70673171e-06,  2.45506258e-03,\n",
       "        5.76189268e-04, -1.65385394e-03, -1.39224686e-03, -9.03844361e-04,\n",
       "        1.09223679e-03, -5.45801151e-04,  1.16095286e-03, -8.96737413e-04,\n",
       "        2.35844227e-03,  3.28042307e-04,  2.40009314e-03,  1.97314656e-04,\n",
       "        6.37994503e-04,  6.51836628e-04, -1.14468996e-03,  1.00969395e-03,\n",
       "       -2.91167998e-04, -1.43381417e-03,  1.05119645e-03,  2.04309049e-04,\n",
       "       -1.21361920e-03,  3.89982268e-04, -2.21157962e-03, -1.78484252e-03,\n",
       "        1.35374326e-03,  1.40175412e-03,  6.00632932e-05, -7.72995628e-04,\n",
       "        7.06742971e-04,  1.00282917e-03, -1.94636369e-04, -8.34754818e-04,\n",
       "        1.49164096e-03,  5.00383307e-04,  2.93820704e-04, -3.66885279e-04,\n",
       "       -2.67230470e-03,  1.48456300e-03,  4.03672614e-04,  7.06821419e-04,\n",
       "        7.13694731e-04,  5.14071949e-04, -3.94387054e-04,  1.31926756e-03,\n",
       "        9.40727197e-04, -8.85571206e-06, -1.03461806e-03,  9.88751701e-04,\n",
       "       -2.08769629e-03, -2.77467419e-04,  3.07690115e-04,  1.63053829e-04,\n",
       "       -2.58999549e-03, -1.79856697e-03,  1.92512177e-03, -9.93320203e-04,\n",
       "        9.54451651e-04, -1.48842036e-03,  2.79900104e-03, -1.44758466e-03,\n",
       "       -3.60075066e-04,  6.44934325e-04,  1.05786512e-03,  1.11980337e-03,\n",
       "        5.28031744e-04,  2.66127928e-04, -6.90326588e-04, -4.70208362e-04,\n",
       "        9.06691479e-04,  8.79198231e-04,  1.80105937e-03,  1.06458665e-03,\n",
       "        8.23701829e-04,  2.35871513e-03, -7.04274446e-04,  8.78933899e-04,\n",
       "       -3.25681220e-04,  1.29886761e-03,  5.34795912e-04, -3.18789149e-04,\n",
       "        1.97324859e-03,  1.81521358e-03,  1.22970133e-03, -1.13083419e-03,\n",
       "       -2.70195050e-04,  4.79480280e-04,  4.93453718e-04, -2.03264329e-03,\n",
       "       -1.69521660e-03, -1.88066613e-04,  4.45378053e-04, -8.89978361e-04,\n",
       "        1.38793246e-03,  4.38250640e-04, -8.90032933e-04, -7.59003430e-04,\n",
       "        5.07033216e-04, -1.26859376e-03,  1.97321449e-03, -1.19984529e-03,\n",
       "        1.51867205e-03,  3.62376465e-04, -3.87559787e-04,  4.52207025e-04,\n",
       "        7.00171510e-04, -1.04137711e-03, -2.74113161e-03,  1.98691166e-03,\n",
       "        9.47656786e-04,  8.10049001e-04,  7.20755633e-04,  1.85744370e-05,\n",
       "       -1.04131742e-03,  1.25735829e-03, -1.53029463e-03,  1.16799671e-03,\n",
       "       -7.59243888e-04,  4.72912229e-04,  2.14540030e-03, -1.94588619e-04,\n",
       "        1.28512269e-03,  1.88374035e-03, -2.08072236e-03,  8.37555892e-04,\n",
       "       -1.06886695e-03,  1.07853792e-03,  8.72308150e-05, -2.84170194e-04,\n",
       "        6.58706529e-04, -5.66468837e-04,  1.07851234e-03,  7.27584606e-04,\n",
       "       -8.48881740e-04,  1.21517222e-04,  7.06804365e-04, -9.65624016e-04,\n",
       "       -1.22729931e-03,  5.48423160e-04, -1.23402937e-03, -1.31694569e-03,\n",
       "        1.49130159e-03, -2.56670125e-04,  9.13341387e-04,  7.62012559e-04,\n",
       "       -5.52792134e-04,  1.14756437e-03,  1.01648200e-03, -9.38280841e-04,\n",
       "       -1.34408422e-03, -4.28866168e-04, -1.97750160e-03, -1.96335933e-03,\n",
       "       -1.58876236e-05,  6.65550850e-04,  1.51220462e-03, -1.43369308e-03,\n",
       "        4.52135399e-04,  6.17055663e-04, -5.25242608e-04,  1.43637137e-03,\n",
       "       -1.33063064e-04, -2.59672726e-03, -7.93492777e-04, -1.03454302e-03,\n",
       "       -1.74210846e-04,  8.24017323e-04,  7.48153380e-04, -5.80334837e-04,\n",
       "        2.18420623e-04,  3.62507779e-04,  1.25773347e-03,  3.23312932e-05,\n",
       "       -6.97235713e-04,  5.69058444e-04, -8.14349759e-04, -4.83905530e-04,\n",
       "       -1.00019693e-03, -3.32278262e-04,  2.35158260e-03, -2.36070653e-04,\n",
       "       -8.49737553e-05, -1.31677686e-03, -9.79590633e-04,  9.82086445e-04,\n",
       "       -3.11786229e-04,  1.14730685e-03,  1.91816830e-03,  8.78886148e-04,\n",
       "        3.91636763e-05,  7.34603158e-05,  1.16801376e-03, -4.49544087e-04,\n",
       "       -2.24352096e-05,  1.47769992e-03,  1.10616078e-03,  1.29892389e-03,\n",
       "       -6.62835045e-04,  3.76413002e-04,  1.40173707e-03, -1.61264136e-03,\n",
       "        7.61906826e-04,  8.76025861e-05, -1.74339630e-03, -1.23410953e-03,\n",
       "        6.58588859e-04, -2.13577025e-03, -2.12194007e-03,  3.07355862e-04,\n",
       "        3.69589146e-04,  2.15903437e-03,  6.51932129e-04, -8.07416759e-04,\n",
       "        1.19578158e-03, -1.41313795e-03,  1.49256044e-04, -7.45539898e-04,\n",
       "       -1.24074409e-03,  2.11056163e-04,  2.52395601e-03, -3.04643468e-04,\n",
       "        1.07613704e-04, -1.12405979e-03, -1.76413390e-03, -8.62295817e-04,\n",
       "       -1.88113369e-03, -1.91561792e-03,  2.38868316e-04,  1.69101646e-03,\n",
       "       -6.43248281e-05,  1.49140391e-03, -9.85055024e-05, -7.45454629e-04,\n",
       "        1.01666618e-03, -5.18447744e-04,  1.08550332e-03,  6.99642845e-04,\n",
       "        6.72482145e-04, -7.86595590e-04, -1.57142877e-03,  5.76199500e-04,\n",
       "        1.22997589e-03,  5.27702607e-04, -3.53130128e-04,  1.52556071e-03,\n",
       "        1.28462473e-03,  2.54034093e-05,  9.68477956e-04, -1.05506575e-03,\n",
       "        1.84248684e-03, -3.39485827e-04,  3.28134398e-04,  2.97826822e-03,\n",
       "       -7.38518219e-04,  1.62203777e-03, -1.88786887e-03,  1.49486269e-04,\n",
       "       -1.20663674e-03,  1.04405881e-03, -1.75741578e-03, -1.41308679e-03,\n",
       "        4.86483200e-04, -4.49501452e-04, -1.37185033e-03, -2.56649660e-04,\n",
       "       -2.08717246e-04, -1.57832084e-03, -1.39914206e-04,  1.60129846e-03,\n",
       "       -9.03772735e-04,  2.59249500e-04, -1.65415238e-03,  1.18177574e-03,\n",
       "        4.03936947e-04,  7.48196015e-04, -5.25256251e-04, -3.60185943e-03,\n",
       "       -1.27533234e-03,  5.14003734e-04,  5.20776429e-04,  3.12256002e-03,\n",
       "       -1.90176897e-03, -5.87387213e-04, -3.46154494e-04,  5.30160333e-05,\n",
       "        1.14712950e-03, -2.25282632e-03, -1.22753465e-03,  1.69951016e-04,\n",
       "       -6.07577395e-04, -2.08772358e-03,  3.14384363e-04, -1.05370287e-04,\n",
       "        8.58319079e-04, -5.11320331e-04,  8.03146698e-04,  4.93339458e-04,\n",
       "        1.29194826e-03,  1.68396408e-03,  6.65596895e-04, -1.53000131e-03,\n",
       "       -9.72449578e-04, -6.14807130e-04,  1.41579577e-03, -8.76269255e-04,\n",
       "        6.51761592e-04, -1.85361827e-03, -4.77020281e-04,  2.59253735e-03,\n",
       "        7.96367181e-04, -1.76398042e-03, -1.87909719e-04,  4.10921108e-04,\n",
       "       -7.79887699e-04, -1.05080374e-04,  8.78811112e-04,  1.19546949e-03,\n",
       "       -4.70184487e-04,  1.31956429e-03, -7.09815578e-05, -7.17785728e-04,\n",
       "        1.36762461e-03,  2.80070670e-04,  8.24017323e-04, -1.08261869e-03,\n",
       "        5.82950025e-04,  7.89410306e-04,  1.04397013e-03,  5.48602224e-04,\n",
       "       -1.30291768e-03, -2.80344505e-03, -1.05508280e-03,  1.07161515e-03,\n",
       "       -2.84478724e-03,  2.35865033e-03, -4.90698690e-04, -1.88096656e-03,\n",
       "       -1.86745016e-03,  1.71159206e-03, -2.00491811e-03, -2.45235701e-03,\n",
       "       -9.58518774e-04,  1.49288446e-04,  2.46191884e-03, -3.87532501e-04,\n",
       "       -8.35036205e-04,  1.21836127e-04,  3.76423235e-04,  2.38989397e-04,\n",
       "       -4.42747516e-04,  1.37435978e-03, -9.13269288e-05, -2.16336241e-03,\n",
       "       -1.42005560e-03,  6.99994152e-04, -1.75726912e-03, -5.25116411e-04,\n",
       "       -3.04866872e-04,  2.37268175e-03,  1.67027715e-03, -1.65370728e-03,\n",
       "       -1.05518342e-03,  1.00282917e-03, -3.25713622e-04, -7.31777926e-04,\n",
       "       -1.94318279e-03, -1.57138614e-03, -7.73062137e-04, -9.24338099e-04,\n",
       "       -3.02362296e-03,  1.07820054e-04,  2.52695092e-04,  7.41153871e-04,\n",
       "        1.33988067e-03, -9.79432033e-04, -5.39168296e-04, -7.31769399e-04,\n",
       "       -1.88119480e-04,  1.77017035e-04,  3.96696980e-04,  6.67387820e-05,\n",
       "        2.16595543e-03,  9.42371460e-05, -1.76408445e-03,  1.03698426e-03,\n",
       "       -1.60424998e-04, -3.64956219e-05,  1.36062339e-03, -1.61961699e-03,\n",
       "        2.48918868e-03, -4.07949498e-04,  2.43454156e-03,  3.42061791e-04,\n",
       "        1.15410513e-03,  1.38113419e-03,  1.15401645e-03, -1.57125994e-03,\n",
       "       -6.42121314e-04, -4.97452626e-04, -6.62633811e-04,  1.14013681e-03,\n",
       "        7.61780628e-04, -5.93955264e-04, -1.77792828e-03, -8.89807824e-04,\n",
       "       -5.04429965e-04,  2.04213008e-03,  1.08004234e-04, -2.68636681e-03,\n",
       "       -5.18338600e-04, -7.04281267e-04, -6.40826652e-05, -1.12395576e-03,\n",
       "        2.55330176e-05, -1.84675690e-03,  2.24146124e-03,  3.41916834e-04,\n",
       "       -1.39244810e-03, -1.02768506e-03, -4.01422376e-04,  2.55995271e-05,\n",
       "        1.32589529e-03,  1.20238032e-03,  1.63388082e-04, -1.20666062e-03,\n",
       "       -2.63557080e-04, -1.60182835e-04, -1.57122072e-03, -7.45452924e-04,\n",
       "        7.89478521e-04,  5.48684082e-04, -4.83850959e-04, -1.49572513e-03,\n",
       "       -4.15059856e-04, -1.35789053e-03, -1.80772074e-04,  2.02151356e-03,\n",
       "       -9.24443832e-04,  8.44260372e-04, -1.88296839e-04, -1.65382666e-03,\n",
       "        1.28764011e-04, -7.77832441e-05,  1.85113383e-05,  9.68206802e-04,\n",
       "       -3.59757867e-04,  7.36274423e-05, -1.01389921e-03,  3.55537261e-04,\n",
       "       -2.29084787e-04,  7.13747597e-04,  5.96638666e-04, -4.90633886e-04,\n",
       "        2.45504553e-03, -7.45319905e-04, -1.25473969e-03, -6.56084520e-04,\n",
       "        5.28101664e-04,  2.20745281e-03, -3.39279477e-04,  5.27787876e-04,\n",
       "       -2.21126242e-03,  6.24224004e-04, -3.25418593e-04, -1.33148332e-04,\n",
       "       -6.40434417e-05,  1.07857885e-03, -7.72804626e-04,  1.56110597e-04,\n",
       "        6.65569609e-04,  2.31827877e-04,  4.72702469e-04, -1.72258195e-03,\n",
       "       -4.32478525e-05, -3.18836899e-04,  3.42227212e-04, -2.49810456e-04,\n",
       "        1.87262151e-05,  4.45580992e-04,  8.03129644e-04, -1.94784736e-04,\n",
       "        1.02999328e-03, -3.64615145e-05,  8.05485047e-05,  1.10598853e-03,\n",
       "        8.71953148e-04,  7.36803088e-05, -2.28666686e-05, -6.14433654e-04,\n",
       "        2.86850186e-04, -1.88782282e-03, -8.55224682e-04,  1.42338392e-04,\n",
       "       -1.05353234e-04, -3.12002811e-04, -5.32160260e-04, -1.17893544e-03,\n",
       "       -2.39032325e-03, -3.64393446e-05, -1.11709439e-03, -1.67460320e-04,\n",
       "       -5.25160751e-04,  1.03703542e-03, -9.93301444e-04, -2.25968258e-03,\n",
       "        2.48270249e-03,  9.95660826e-04,  9.54552268e-04,  8.72065703e-04,\n",
       "        3.69391323e-04,  1.46375547e-03, -1.82612673e-03, -7.72980279e-04,\n",
       "       -1.00014065e-03,  6.72439510e-04,  1.00287351e-03,  7.68689753e-04,\n",
       "       -2.24588138e-03, -7.79867234e-04, -2.14273736e-03, -2.29260440e-04,\n",
       "       -5.80420106e-04, -2.29412218e-04, -4.90894808e-04, -6.55724687e-04,\n",
       "        1.01684183e-03, -1.25676435e-04,  6.58912879e-04,  1.21614741e-03,\n",
       "       -7.45577416e-04, -1.35110079e-03, -2.12053522e-06,  1.71872288e-03,\n",
       "       -1.22742210e-03, -1.69522342e-03,  4.31396087e-04,  6.17470068e-04,\n",
       "       -1.72255807e-03,  1.80113441e-03, -6.97155560e-04,  1.70491145e-03,\n",
       "        8.99691970e-04,  4.31491588e-04, -1.24776918e-03, -1.70917981e-03,\n",
       "       -9.65690526e-04, -4.70071933e-04, -4.33092459e-05, -2.12208502e-03,\n",
       "        1.56368108e-04, -3.87518858e-04,  1.31248804e-03,  1.42259405e-03,\n",
       "        6.44661465e-04,  2.52592770e-04, -4.90754967e-04,  9.47319123e-04,\n",
       "        7.37127109e-05,  8.51440651e-04,  2.07662454e-03, -6.38763152e-05,\n",
       "       -2.01816648e-04,  1.14724034e-03,  1.64963334e-03, -5.04970568e-04,\n",
       "        3.35021352e-04, -6.97384080e-04,  2.12472579e-03,  6.37963807e-04,\n",
       "       -1.41976228e-03,  7.34074493e-05, -2.43039466e-04, -1.26841299e-03,\n",
       "        2.06259312e-03,  1.36733469e-03, -1.74195497e-04,  2.82659149e-03,\n",
       "       -2.83769053e-03,  1.08536178e-03, -8.07387768e-04,  4.04017099e-04,\n",
       "        2.52331848e-04,  6.24357023e-04, -6.14784960e-04, -8.55473666e-04,\n",
       "        1.29884544e-03, -7.45609818e-04, -1.63322889e-03, -2.94517728e-05,\n",
       "       -1.46813099e-04, -1.88788763e-03, -1.79158111e-03, -3.32540889e-04,\n",
       "        7.61790861e-04, -1.73657585e-03, -3.06479291e-03, -2.43181012e-04,\n",
       "        1.88371306e-03, -3.25722149e-04, -1.58978558e-05, -1.01370480e-03,\n",
       "       -7.66002940e-04, -1.66763297e-03, -3.32412986e-04,  1.35380465e-03,\n",
       "        3.00777579e-04, -2.10836227e-03, -9.38059143e-04, -1.53555097e-04,\n",
       "       -2.71406300e-03,  3.76987713e-04,  1.00282746e-03,  4.59013827e-04,\n",
       "       -1.19365896e-04,  1.00925738e-03, -1.55782881e-03, -3.66379769e-03,\n",
       "       -3.67224364e-05, -1.37174801e-03, -1.96389652e-03, -3.18703880e-04,\n",
       "        7.13624810e-04,  6.51807637e-04, -1.37865713e-03, -8.07290562e-04])"
      ]
     },
     "execution_count": 24,
     "metadata": {},
     "output_type": "execute_result"
    }
   ],
   "source": [
    "new=np.random.binomial(nnew,p=pnew,size=1000)/nnew\n",
    "old=np.random.binomial(nold,p=pold,size=1000)/nold\n",
    "p_diffs=new-old\n",
    "p_diffs"
   ]
  },
  {
   "cell_type": "markdown",
   "metadata": {},
   "source": [
    "i. Plot a histogram of the **p_diffs**.  Does this plot look like what you expected?  Use the matching problem in the classroom to assure you fully understand what was computed here."
   ]
  },
  {
   "cell_type": "code",
   "execution_count": 25,
   "metadata": {},
   "outputs": [
    {
     "data": {
      "image/png": "[encoded data removed]",
      "text/plain": [
       "<Figure size 432x288 with 1 Axes>"
      ]
     },
     "metadata": {
      "needs_background": "light"
     },
     "output_type": "display_data"
    }
   ],
   "source": [
    "p_diffs=np.array(p_diffs)\n",
    "plt.hist(p_diffs);\n",
    "plt.title('The diffrence between Old and New page',fontsize=15)\n",
    "plt.xlabel('Diffs')\n",
    "plt.ylabel('Numbers')\n",
    "actual=converted_treatment-converted_control\n",
    "plt.axvline((actual),color='red',label='Actual')\n",
    "plt.legend();"
   ]
  },
  {
   "cell_type": "markdown",
   "metadata": {},
   "source": [
    "j. What proportion of the **p_diffs** are greater than the actual difference observed in **ab_data.csv**?"
   ]
  },
  {
   "cell_type": "code",
   "execution_count": 26,
   "metadata": {},
   "outputs": [
    {
     "ename": "NameError",
     "evalue": "name 'def_mean' is not defined",
     "output_type": "error",
     "traceback": [
      "\u001b[1;31m---------------------------------------------------------------------------\u001b[0m",
      "\u001b[1;31mNameError\u001b[0m                                 Traceback (most recent call last)",
      "\u001b[1;32m<ipython-input-26-4b99ef133225>\u001b[0m in \u001b[0;36m<module>\u001b[1;34m\u001b[0m\n\u001b[0;32m      1\u001b[0m \u001b[0mp_diffs_mean\u001b[0m\u001b[1;33m=\u001b[0m\u001b[1;33m(\u001b[0m\u001b[0mactual\u001b[0m\u001b[1;33m<\u001b[0m\u001b[0mp_diffs\u001b[0m\u001b[1;33m)\u001b[0m\u001b[1;33m.\u001b[0m\u001b[0mmean\u001b[0m\u001b[1;33m(\u001b[0m\u001b[1;33m)\u001b[0m\u001b[1;33m\u001b[0m\u001b[1;33m\u001b[0m\u001b[0m\n\u001b[1;32m----> 2\u001b[1;33m \u001b[0mdef_mean\u001b[0m\u001b[1;33m\u001b[0m\u001b[1;33m\u001b[0m\u001b[0m\n\u001b[0m",
      "\u001b[1;31mNameError\u001b[0m: name 'def_mean' is not defined"
     ]
    }
   ],
   "source": [
    "p_diffs_mean=(actual<p_diffs).mean()\n",
    "def_mean"
   ]
  },
  {
   "cell_type": "markdown",
   "metadata": {},
   "source": [
    "k. Please explain using the vocabulary you've learned in this course what you just computed in part **j.**  What is this value called in scientific studies?  What does this value mean in terms of whether or not there is a difference between the new and old pages?"
   ]
  },
  {
   "cell_type": "markdown",
   "metadata": {},
   "source": [
    " 1. diffs_mean is called __p-value__\n",
    " 2. since p-value is high then hypothesis is fail to reject.\n"
   ]
  },
  {
   "cell_type": "markdown",
   "metadata": {},
   "source": [
    "l. We could also use a built-in to achieve similar results.  Though using the built-in might be easier to code, the above portions are a walkthrough of the ideas that are critical to correctly thinking about statistical significance. Fill in the below to calculate the number of conversions for each page, as well as the number of individuals who received each page. Let `n_old` and `n_new` refer the the number of rows associated with the old page and new pages, respectively."
   ]
  },
  {
   "cell_type": "code",
   "execution_count": null,
   "metadata": {},
   "outputs": [],
   "source": [
    "import statsmodels.api as sm\n",
    "\n",
    "convert_old = df2.query('landing_page==\"old_page\" and converted==1').shape[0]\n",
    "convert_new = df2.query('landing_page==\"new_page\" and converted==1').shape[0]\n",
    "nold = df2.query('landing_page==\"old_page\"').shape[0]\n",
    "nnew = df2.query('landing_page==\"new_page\"').shape[0]\n",
    "\n",
    "print(\"convert_old is\", convert_old)\n",
    "print(\"convert_new is\", convert_new)\n",
    "print(\"number of old page is\", nold)\n",
    "print(\"number of new page is\", nnew)"
   ]
  },
  {
   "cell_type": "markdown",
   "metadata": {},
   "source": [
    "m. Now use `stats.proportions_ztest` to compute your test statistic and p-value.  [Here](http://knowledgetack.com/python/statsmodels/proportions_ztest/) is a helpful link on using the built in."
   ]
  },
  {
   "cell_type": "code",
   "execution_count": null,
   "metadata": {},
   "outputs": [],
   "source": [
    "z_score,p_value=sm.stats.proportions_ztest([convert_old,convert_new],[nold,nold],alternative='smaller')\n",
    "print(\"Z_Score is\",z_score)\n",
    "print(\"P_Value is\",p_value)"
   ]
  },
  {
   "cell_type": "markdown",
   "metadata": {},
   "source": [
    "n. What do the z-score and p-value you computed in the previous question mean for the conversion rates of the old and new pages?  Do they agree with the findings in parts **j.** and **k.**?"
   ]
  },
  {
   "cell_type": "markdown",
   "metadata": {},
   "source": [
    "<a id='regression'></a>\n",
    "### Part III - A regression approach\n",
    "\n",
    "`1.` In this final part, you will see that the result you achieved in the A/B test in Part II above can also be achieved by performing regression.<br><br> \n",
    "\n",
    "a. Since each row is either a conversion or no conversion, what type of regression should you be performing in this case?"
   ]
  },
  {
   "cell_type": "markdown",
   "metadata": {},
   "source": [
    "The better type of regression is __Logitic Regression__ "
   ]
  },
  {
   "cell_type": "markdown",
   "metadata": {},
   "source": [
    "b. The goal is to use **statsmodels** to fit the regression model you specified in part **a.** to see if there is a significant difference in conversion based on which page a customer receives. However, you first need to create in df2 a column for the intercept, and create a dummy variable column for which page each user received.  Add an **intercept** column, as well as an **ab_page** column, which is 1 when an individual receives the **treatment** and 0 if **control**."
   ]
  },
  {
   "cell_type": "code",
   "execution_count": null,
   "metadata": {},
   "outputs": [],
   "source": [
    "df2['intercept']=1\n",
    "# creat dummey variable for sake of logit function\n",
    "df2[['control','treatment']]=pd.get_dummies(ab2['group'])\n",
    "#intercept and dummey variables\n",
    "ab2.head()"
   ]
  },
  {
   "cell_type": "markdown",
   "metadata": {},
   "source": [
    "c. Use **statsmodels** to instantiate your regression model on the two columns you created in part b., then fit the model using the two columns you created in part **b.** to predict whether or not an individual converts. "
   ]
  },
  {
   "cell_type": "code",
   "execution_count": null,
   "metadata": {},
   "outputs": [],
   "source": [
    "logit=sm.Logit(df2['converted'],df2[['intercept','treatment']])\n",
    "result=logit.fit()\n"
   ]
  },
  {
   "cell_type": "markdown",
   "metadata": {},
   "source": [
    "d. Provide the summary of your model below, and use it as necessary to answer the following questions."
   ]
  },
  {
   "cell_type": "code",
   "execution_count": null,
   "metadata": {},
   "outputs": [],
   "source": [
    "result.summary()"
   ]
  },
  {
   "cell_type": "markdown",
   "metadata": {},
   "source": [
    "e. What is the p-value associated with **ab_page**? Why does it differ from the value you found in **Part II**?<br><br>  **Hint**: What are the null and alternative hypotheses associated with your regression model, and how do they compare to the null and alternative hypotheses in **Part II**?"
   ]
  },
  {
   "cell_type": "markdown",
   "metadata": {},
   "source": [
    "#### p-value = 0.190\n",
    "#### And it is different than PART 2 p-value since we have two side test rather one side as before.\n",
    "#### Anyway p-value > 0.5 then we have fail to reject null hypothesis"
   ]
  },
  {
   "cell_type": "markdown",
   "metadata": {},
   "source": [
    "f. Now, you are considering other things that might influence whether or not an individual converts.  Discuss why it is a good idea to consider other factors to add into your regression model.  Are there any disadvantages to adding additional terms into your regression model?"
   ]
  },
  {
   "cell_type": "markdown",
   "metadata": {},
   "source": [
    "#### The dataset is limited since we do not have more information why they are not converted .we might take better decision if we Accured some information as below:\n",
    "* Gender\n",
    "* Age\n",
    "* Location\n",
    "* channel(mobile or PC)"
   ]
  },
  {
   "cell_type": "markdown",
   "metadata": {},
   "source": [
    "g. Now along with testing if the conversion rate changes for different pages, also add an effect based on which country a user lives in. You will need to read in the **countries.csv** dataset and merge together your datasets on the appropriate rows.  [Here](https://pandas.pydata.org/pandas-docs/stable/generated/pandas.DataFrame.join.html) are the docs for joining tables. \n",
    "\n",
    "Does it appear that country had an impact on conversion?  Don't forget to create dummy variables for these country columns - **Hint: You will need two columns for the three dummy variables.** Provide the statistical output as well as a written response to answer this question."
   ]
  },
  {
   "cell_type": "code",
   "execution_count": null,
   "metadata": {},
   "outputs": [],
   "source": [
    "country=pd.read_csv('countries.csv')\n",
    "country.head()"
   ]
  },
  {
   "cell_type": "code",
   "execution_count": null,
   "metadata": {},
   "outputs": [],
   "source": [
    "# adding counrty to our dataset using join by user_id\n",
    "df3=country.set_index('user_id').join(df2.set_index('user_id'),how='inner')\n",
    "ab3.head()"
   ]
  },
  {
   "cell_type": "markdown",
   "metadata": {},
   "source": [
    "h. Though you have now looked at the individual factors of country and page on conversion, we would now like to look at an interaction between page and country to see if there significant effects on conversion.  Create the necessary additional columns, and fit the new model.  \n",
    "\n",
    "Provide the summary results, and your conclusions based on the results."
   ]
  },
  {
   "cell_type": "code",
   "execution_count": null,
   "metadata": {},
   "outputs": [],
   "source": [
    "df3['intercept']=1\n",
    "df3[['CA','US']]=pd.get_dummies(df3['country'])[['CA','US']]\n",
    "df3.head()"
   ]
  },
  {
   "cell_type": "code",
   "execution_count": null,
   "metadata": {},
   "outputs": [],
   "source": [
    "logit2=sm.Logit(df3['converted'],df3[['intercept','CA','US']])\n",
    "result2=logit2.fit()\n",
    "result2.summary()"
   ]
  }
 ],
 "metadata": {
  "kernelspec": {
   "display_name": "Python 3",
   "language": "python",
   "name": "python3"
  },
  "language_info": {
   "codemirror_mode": {
    "name": "ipython",
    "version": 3
   },
   "file_extension": ".py",
   "mimetype": "text/x-python",
   "name": "python",
   "nbconvert_exporter": "python",
   "pygments_lexer": "ipython3",
   "version": "3.7.3"
  }
 },
 "nbformat": 4,
 "nbformat_minor": 2
}
